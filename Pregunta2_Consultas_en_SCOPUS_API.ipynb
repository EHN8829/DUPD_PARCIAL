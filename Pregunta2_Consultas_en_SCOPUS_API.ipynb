{
  "cells": [
    {
      "cell_type": "markdown",
      "metadata": {
        "id": "view-in-github",
        "colab_type": "text"
      },
      "source": [
        "<a href=\"https://colab.research.google.com/github/EHN8829/DUPD_PARCIAL/blob/main/Pregunta2_Consultas_en_SCOPUS_API.ipynb\" target=\"_parent\"><img src=\"https://colab.research.google.com/assets/colab-badge.svg\" alt=\"Open In Colab\"/></a>"
      ]
    },
    {
      "cell_type": "markdown",
      "source": [
        "Autor: Eginhardo Navarro Honda"
      ],
      "metadata": {
        "id": "ZXM5LuB1muHw"
      }
    },
    {
      "cell_type": "code",
      "execution_count": 1,
      "metadata": {
        "id": "Iq7V-BoQVjKW",
        "colab": {
          "base_uri": "https://localhost:8080/"
        },
        "outputId": "89e2d99b-67eb-4903-9400-abc3b90b344e",
        "collapsed": true
      },
      "outputs": [
        {
          "output_type": "stream",
          "name": "stdout",
          "text": [
            "Collecting pyscopus==1.0.3a2\n",
            "  Downloading pyscopus-1.0.3a2-py3-none-any.whl.metadata (2.5 kB)\n",
            "Downloading pyscopus-1.0.3a2-py3-none-any.whl (11 kB)\n",
            "Installing collected packages: pyscopus\n",
            "Successfully installed pyscopus-1.0.3a2\n"
          ]
        }
      ],
      "source": [
        "# Instalando pyscopus\n",
        "!pip install pyscopus==1.0.3a2"
      ]
    },
    {
      "cell_type": "code",
      "execution_count": 6,
      "metadata": {
        "id": "DuGPf6TYZBmi"
      },
      "outputs": [],
      "source": [
        "# Instalando las librerías necesarias\n",
        "from pyscopus import Scopus\n",
        "import numpy as np\n",
        "import pandas as pd\n",
        "import requests"
      ]
    },
    {
      "cell_type": "markdown",
      "source": [
        "Código para realizar una búsqueda directa utilizando 'requests'\n",
        "Key words:\n",
        "* deep learning\n",
        "* biomedical images\n",
        "* neural networks\n",
        "* algorithms\n",
        "\n"
      ],
      "metadata": {
        "id": "dQSNY0hCi-Iw"
      }
    },
    {
      "cell_type": "code",
      "source": [
        "# Defininiendo con la clave de API y la consulta correspondiente\n",
        "key = \"bab8e983f0fd5bdd813ac1c6910111b7\"\n",
        "query = 'TITLE-ABS-KEY(\"deep learning\" AND \"biomedical images\" AND \"neural networks\" AND \"algorithms\")'\n",
        "\n",
        "# A través del URL de la API de Scopus\n",
        "url = \"https://api.elsevier.com/content/search/scopus\"\n",
        "\n",
        "# Encabezados y parámetros de la solicitud\n",
        "headers = {\n",
        "    \"X-ELS-APIKey\": key,\n",
        "    \"Accept\": \"application/json\"\n",
        "}\n",
        "params = {\n",
        "    \"query\": query,\n",
        "    \"count\": 25  # Limitar el número de resultados por solicitud\n",
        "}\n",
        "\n",
        "# Haciendo la solicitud GET a la API de Scopus\n",
        "response = requests.get(url, headers=headers, params=params)\n",
        "\n",
        "# Verificando si la solicitud fue exitosa\n",
        "if response.status_code == 200:\n",
        "    data = response.json()  # Convertir la respuesta a JSON\n",
        "    print(\"Respuesta de la API: \", data)  # Imprimir la respuesta completa para depuración\n",
        "\n",
        "    # Extrayendo los artículos de la  respuesta en formato txt\n",
        "    if 'search-results' in data:\n",
        "        articles = data['search-results']['entry']\n",
        "        for article in articles:\n",
        "            print(f\"Título: {article.get('dc:title', 'No title available')}\")\n",
        "            print(f\"Autores: {article.get('dc:creator', 'No authors available')}\")\n",
        "            print(f\"Resumen: {article.get('dc:description', 'No abstract available')}\\n\")\n",
        "    else:\n",
        "        print(\"No se encontraron resultados en 'search-results'.\")\n",
        "else:\n",
        "    print(f\"Error en la solicitud: {response.status_code} - {response.text}\")\n"
      ],
      "metadata": {
        "colab": {
          "base_uri": "https://localhost:8080/"
        },
        "collapsed": true,
        "id": "V2aNHHo_eYIK",
        "outputId": "1491b0d1-cee2-4046-ae89-3df559a271b3"
      },
      "execution_count": 18,
      "outputs": [
        {
          "output_type": "stream",
          "name": "stdout",
          "text": [
            "Respuesta de la API:  {'search-results': {'opensearch:totalResults': '207', 'opensearch:startIndex': '0', 'opensearch:itemsPerPage': '25', 'opensearch:Query': {'@role': 'request', '@searchTerms': 'TITLE-ABS-KEY(\"deep learning\" AND \"biomedical images\" AND \"neural networks\" AND \"algorithms\")', '@startPage': '0'}, 'link': [{'@_fa': 'true', '@ref': 'self', '@href': 'https://api.elsevier.com/content/search/scopus?start=0&count=25&query=TITLE-ABS-KEY%28%22deep+learning%22+AND+%22biomedical+images%22+AND+%22neural+networks%22+AND+%22algorithms%22%29', '@type': 'application/json'}, {'@_fa': 'true', '@ref': 'first', '@href': 'https://api.elsevier.com/content/search/scopus?start=0&count=25&query=TITLE-ABS-KEY%28%22deep+learning%22+AND+%22biomedical+images%22+AND+%22neural+networks%22+AND+%22algorithms%22%29', '@type': 'application/json'}, {'@_fa': 'true', '@ref': 'next', '@href': 'https://api.elsevier.com/content/search/scopus?start=25&count=25&query=TITLE-ABS-KEY%28%22deep+learning%22+AND+%22biomedical+images%22+AND+%22neural+networks%22+AND+%22algorithms%22%29', '@type': 'application/json'}, {'@_fa': 'true', '@ref': 'last', '@href': 'https://api.elsevier.com/content/search/scopus?start=182&count=25&query=TITLE-ABS-KEY%28%22deep+learning%22+AND+%22biomedical+images%22+AND+%22neural+networks%22+AND+%22algorithms%22%29', '@type': 'application/json'}], 'entry': [{'@_fa': 'true', 'link': [{'@_fa': 'true', '@ref': 'self', '@href': 'https://api.elsevier.com/content/abstract/scopus_id/85201977162'}, {'@_fa': 'true', '@ref': 'author-affiliation', '@href': 'https://api.elsevier.com/content/abstract/scopus_id/85201977162?field=author,affiliation'}, {'@_fa': 'true', '@ref': 'scopus', '@href': 'https://www.scopus.com/inward/record.uri?partnerID=HzOxMe3b&scp=85201977162&origin=inward'}, {'@_fa': 'true', '@ref': 'scopus-citedby', '@href': 'https://www.scopus.com/inward/citedby.uri?partnerID=HzOxMe3b&scp=85201977162&origin=inward'}], 'prism:url': 'https://api.elsevier.com/content/abstract/scopus_id/85201977162', 'dc:identifier': 'SCOPUS_ID:85201977162', 'eid': '2-s2.0-85201977162', 'dc:title': 'Towards laryngeal cancer diagnosis using Dandelion Optimizer Algorithm with ensemble learning on biomedical throat region images', 'dc:creator': 'Alzakari S.A.', 'prism:publicationName': 'Scientific Reports', 'prism:eIssn': '20452322', 'prism:volume': '14', 'prism:issueIdentifier': '1', 'prism:pageRange': None, 'prism:coverDate': '2024-12-01', 'prism:coverDisplayDate': 'December 2024', 'prism:doi': '10.1038/s41598-024-70525-0', 'citedby-count': '0', 'affiliation': [{'@_fa': 'true', 'affilname': 'Princess Nourah Bint Abdulrahman University', 'affiliation-city': 'Riyadh', 'affiliation-country': 'Saudi Arabia'}], 'pubmed-id': '39181918', 'prism:aggregationType': 'Journal', 'subtype': 'ar', 'subtypeDescription': 'Article', 'article-number': '19713', 'source-id': '21100200805', 'openaccess': '1', 'openaccessFlag': True, 'freetoread': {'value': [{'$': 'all'}, {'$': 'publisherfullgold'}]}, 'freetoreadLabel': {'value': [{'$': 'All Open Access'}, {'$': 'Gold'}]}}, {'@_fa': 'true', 'link': [{'@_fa': 'true', '@ref': 'self', '@href': 'https://api.elsevier.com/content/abstract/scopus_id/85198985257'}, {'@_fa': 'true', '@ref': 'author-affiliation', '@href': 'https://api.elsevier.com/content/abstract/scopus_id/85198985257?field=author,affiliation'}, {'@_fa': 'true', '@ref': 'scopus', '@href': 'https://www.scopus.com/inward/record.uri?partnerID=HzOxMe3b&scp=85198985257&origin=inward'}, {'@_fa': 'true', '@ref': 'scopus-citedby', '@href': 'https://www.scopus.com/inward/citedby.uri?partnerID=HzOxMe3b&scp=85198985257&origin=inward'}, {'@_fa': 'true', '@ref': 'full-text', '@href': 'https://api.elsevier.com/content/article/eid/1-s2.0-S1319157824002192'}], 'prism:url': 'https://api.elsevier.com/content/abstract/scopus_id/85198985257', 'dc:identifier': 'SCOPUS_ID:85198985257', 'eid': '2-s2.0-85198985257', 'dc:title': 'An optimized fusion of deep learning models for kidney stone detection from CT images', 'dc:creator': 'Asif S.', 'prism:publicationName': 'Journal of King Saud University - Computer and Information Sciences', 'prism:issn': '13191578', 'prism:eIssn': '22131248', 'prism:volume': '36', 'prism:issueIdentifier': '7', 'prism:pageRange': None, 'prism:coverDate': '2024-09-01', 'prism:coverDisplayDate': 'September 2024', 'prism:doi': '10.1016/j.jksuci.2024.102130', 'pii': 'S1319157824002192', 'citedby-count': '0', 'affiliation': [{'@_fa': 'true', 'affilname': 'Central South University', 'affiliation-city': 'Changsha', 'affiliation-country': 'China'}], 'prism:aggregationType': 'Journal', 'subtype': 'ar', 'subtypeDescription': 'Article', 'article-number': '102130', 'source-id': '21100389724', 'openaccess': '1', 'openaccessFlag': True, 'freetoread': {'value': [{'$': 'all'}, {'$': 'publisherhybridgold'}]}, 'freetoreadLabel': {'value': [{'$': 'All Open Access'}, {'$': 'Hybrid Gold'}]}}, {'@_fa': 'true', 'link': [{'@_fa': 'true', '@ref': 'self', '@href': 'https://api.elsevier.com/content/abstract/scopus_id/85197930832'}, {'@_fa': 'true', '@ref': 'author-affiliation', '@href': 'https://api.elsevier.com/content/abstract/scopus_id/85197930832?field=author,affiliation'}, {'@_fa': 'true', '@ref': 'scopus', '@href': 'https://www.scopus.com/inward/record.uri?partnerID=HzOxMe3b&scp=85197930832&origin=inward'}, {'@_fa': 'true', '@ref': 'scopus-citedby', '@href': 'https://www.scopus.com/inward/citedby.uri?partnerID=HzOxMe3b&scp=85197930832&origin=inward'}], 'prism:url': 'https://api.elsevier.com/content/abstract/scopus_id/85197930832', 'dc:identifier': 'SCOPUS_ID:85197930832', 'eid': '2-s2.0-85197930832', 'dc:title': 'Biomedical image classification using seagull optimization with deep learning for colon and lung cancer diagnosis', 'dc:creator': 'Manoharan T.', 'prism:publicationName': 'Indonesian Journal of Electrical Engineering and Computer Science', 'prism:issn': '25024752', 'prism:eIssn': '25024760', 'prism:volume': '35', 'prism:issueIdentifier': '3', 'prism:pageRange': '1670-1679', 'prism:coverDate': '2024-09-01', 'prism:coverDisplayDate': 'September 2024', 'prism:doi': '10.11591/ijeecs.v35.i3.pp1670-1679', 'citedby-count': '0', 'affiliation': [{'@_fa': 'true', 'affilname': 'Vel Tech Rangarajan Dr.Sagunthala R&amp;D Institute of Science and Technology', 'affiliation-city': 'Chennai', 'affiliation-country': 'India'}], 'prism:aggregationType': 'Journal', 'subtype': 'ar', 'subtypeDescription': 'Article', 'source-id': '21100799500', 'openaccess': '1', 'openaccessFlag': True}, {'@_fa': 'true', 'link': [{'@_fa': 'true', '@ref': 'self', '@href': 'https://api.elsevier.com/content/abstract/scopus_id/85199492909'}, {'@_fa': 'true', '@ref': 'author-affiliation', '@href': 'https://api.elsevier.com/content/abstract/scopus_id/85199492909?field=author,affiliation'}, {'@_fa': 'true', '@ref': 'scopus', '@href': 'https://www.scopus.com/inward/record.uri?partnerID=HzOxMe3b&scp=85199492909&origin=inward'}, {'@_fa': 'true', '@ref': 'scopus-citedby', '@href': 'https://www.scopus.com/inward/citedby.uri?partnerID=HzOxMe3b&scp=85199492909&origin=inward'}], 'prism:url': 'https://api.elsevier.com/content/abstract/scopus_id/85199492909', 'dc:identifier': 'SCOPUS_ID:85199492909', 'eid': '2-s2.0-85199492909', 'dc:title': 'Identifying and training deep learning neural networks on biomedical-related datasets', 'dc:creator': 'Woessner A.E.', 'prism:publicationName': 'Briefings in Bioinformatics', 'prism:issn': '14675463', 'prism:eIssn': '14774054', 'prism:volume': '25', 'prism:pageRange': None, 'prism:coverDate': '2024-07-01', 'prism:coverDisplayDate': '1 July 2024', 'prism:doi': '10.1093/bib/bbae232', 'citedby-count': '0', 'affiliation': [{'@_fa': 'true', 'affilname': 'College of Engineering', 'affiliation-city': 'Fayetteville', 'affiliation-country': 'United States'}, {'@_fa': 'true', 'affilname': 'University of Arkansas', 'affiliation-city': 'Fayetteville', 'affiliation-country': 'United States'}], 'pubmed-id': '39041915', 'prism:aggregationType': 'Journal', 'subtype': 'ar', 'subtypeDescription': 'Article', 'article-number': 'bbae232', 'source-id': '17956', 'openaccess': '1', 'openaccessFlag': True, 'freetoread': {'value': [{'$': 'all'}, {'$': 'publisherhybridgold'}]}, 'freetoreadLabel': {'value': [{'$': 'All Open Access'}, {'$': 'Hybrid Gold'}]}}, {'@_fa': 'true', 'link': [{'@_fa': 'true', '@ref': 'self', '@href': 'https://api.elsevier.com/content/abstract/scopus_id/85158055678'}, {'@_fa': 'true', '@ref': 'author-affiliation', '@href': 'https://api.elsevier.com/content/abstract/scopus_id/85158055678?field=author,affiliation'}, {'@_fa': 'true', '@ref': 'scopus', '@href': 'https://www.scopus.com/inward/record.uri?partnerID=HzOxMe3b&scp=85158055678&origin=inward'}, {'@_fa': 'true', '@ref': 'scopus-citedby', '@href': 'https://www.scopus.com/inward/citedby.uri?partnerID=HzOxMe3b&scp=85158055678&origin=inward'}], 'prism:url': 'https://api.elsevier.com/content/abstract/scopus_id/85158055678', 'dc:identifier': 'SCOPUS_ID:85158055678', 'eid': '2-s2.0-85158055678', 'dc:title': 'Cervical precancerous lesion classification using quantum invasive weed optimization with deep learning on biomedical pap smear images', 'dc:creator': 'Mishra A.K.', 'prism:publicationName': 'Expert Systems', 'prism:issn': '02664720', 'prism:eIssn': '14680394', 'prism:volume': '41', 'prism:issueIdentifier': '7', 'prism:pageRange': None, 'prism:coverDate': '2024-07-01', 'prism:coverDisplayDate': 'July 2024', 'prism:doi': '10.1111/exsy.13308', 'citedby-count': '4', 'affiliation': [{'@_fa': 'true', 'affilname': 'Pranveer Singh Institute of Technology', 'affiliation-city': 'Kanpur', 'affiliation-country': 'India'}], 'prism:aggregationType': 'Journal', 'subtype': 'ar', 'subtypeDescription': 'Article', 'article-number': 'e13308', 'source-id': '24185', 'openaccess': '0', 'openaccessFlag': False}, {'@_fa': 'true', 'link': [{'@_fa': 'true', '@ref': 'self', '@href': 'https://api.elsevier.com/content/abstract/scopus_id/85189627172'}, {'@_fa': 'true', '@ref': 'author-affiliation', '@href': 'https://api.elsevier.com/content/abstract/scopus_id/85189627172?field=author,affiliation'}, {'@_fa': 'true', '@ref': 'scopus', '@href': 'https://www.scopus.com/inward/record.uri?partnerID=HzOxMe3b&scp=85189627172&origin=inward'}, {'@_fa': 'true', '@ref': 'scopus-citedby', '@href': 'https://www.scopus.com/inward/citedby.uri?partnerID=HzOxMe3b&scp=85189627172&origin=inward'}], 'prism:url': 'https://api.elsevier.com/content/abstract/scopus_id/85189627172', 'dc:identifier': 'SCOPUS_ID:85189627172', 'eid': '2-s2.0-85189627172', 'dc:title': 'Multi-scale nested UNet with transformer for colorectal polyp segmentation', 'dc:creator': 'Wang Z.', 'prism:publicationName': 'Journal of Applied Clinical Medical Physics', 'prism:eIssn': '15269914', 'prism:volume': '25', 'prism:issueIdentifier': '6', 'prism:pageRange': None, 'prism:coverDate': '2024-06-01', 'prism:coverDisplayDate': 'June 2024', 'prism:doi': '10.1002/acm2.14351', 'citedby-count': '3', 'affiliation': [{'@_fa': 'true', 'affilname': 'Beijing Chao-Yang Hospital, Capital Medical University', 'affiliation-city': 'Beijing', 'affiliation-country': 'China'}], 'pubmed-id': '38551396', 'prism:aggregationType': 'Journal', 'subtype': 'ar', 'subtypeDescription': 'Article', 'article-number': 'e14351', 'source-id': '27214', 'openaccess': '1', 'openaccessFlag': True, 'freetoread': {'value': [{'$': 'all'}, {'$': 'publisherfullgold'}]}, 'freetoreadLabel': {'value': [{'$': 'All Open Access'}, {'$': 'Gold'}]}}, {'@_fa': 'true', 'link': [{'@_fa': 'true', '@ref': 'self', '@href': 'https://api.elsevier.com/content/abstract/scopus_id/85185316951'}, {'@_fa': 'true', '@ref': 'author-affiliation', '@href': 'https://api.elsevier.com/content/abstract/scopus_id/85185316951?field=author,affiliation'}, {'@_fa': 'true', '@ref': 'scopus', '@href': 'https://www.scopus.com/inward/record.uri?partnerID=HzOxMe3b&scp=85185316951&origin=inward'}, {'@_fa': 'true', '@ref': 'scopus-citedby', '@href': 'https://www.scopus.com/inward/citedby.uri?partnerID=HzOxMe3b&scp=85185316951&origin=inward'}, {'@_fa': 'true', '@ref': 'full-text', '@href': 'https://api.elsevier.com/content/article/eid/1-s2.0-S2772442524000121'}], 'prism:url': 'https://api.elsevier.com/content/abstract/scopus_id/85185316951', 'dc:identifier': 'SCOPUS_ID:85185316951', 'eid': '2-s2.0-85185316951', 'dc:title': \"A novel deep learning graph attention network for Alzheimer's disease image segmentation\", 'dc:creator': 'Hasan M.E.', 'prism:publicationName': 'Healthcare Analytics', 'prism:eIssn': '27724425', 'prism:volume': '5', 'prism:pageRange': None, 'prism:coverDate': '2024-06-01', 'prism:coverDisplayDate': 'June 2024', 'prism:doi': '10.1016/j.health.2024.100310', 'pii': 'S2772442524000121', 'citedby-count': '1', 'affiliation': [{'@_fa': 'true', 'affilname': 'The University of Texas at El Paso', 'affiliation-city': 'El Paso', 'affiliation-country': 'United States'}], 'prism:aggregationType': 'Journal', 'subtype': 'ar', 'subtypeDescription': 'Article', 'article-number': '100310', 'source-id': '21101136665', 'openaccess': '1', 'openaccessFlag': True, 'freetoread': {'value': [{'$': 'all'}, {'$': 'publisherfullgold'}]}, 'freetoreadLabel': {'value': [{'$': 'All Open Access'}, {'$': 'Gold'}]}}, {'@_fa': 'true', 'link': [{'@_fa': 'true', '@ref': 'self', '@href': 'https://api.elsevier.com/content/abstract/scopus_id/85195530501'}, {'@_fa': 'true', '@ref': 'author-affiliation', '@href': 'https://api.elsevier.com/content/abstract/scopus_id/85195530501?field=author,affiliation'}, {'@_fa': 'true', '@ref': 'scopus', '@href': 'https://www.scopus.com/inward/record.uri?partnerID=HzOxMe3b&scp=85195530501&origin=inward'}, {'@_fa': 'true', '@ref': 'scopus-citedby', '@href': 'https://www.scopus.com/inward/citedby.uri?partnerID=HzOxMe3b&scp=85195530501&origin=inward'}], 'prism:url': 'https://api.elsevier.com/content/abstract/scopus_id/85195530501', 'dc:identifier': 'SCOPUS_ID:85195530501', 'eid': '2-s2.0-85195530501', 'dc:title': 'Intelligent deep learning supports biomedical image detection and classification of oral cancer', 'dc:creator': 'Chen R.', 'prism:publicationName': 'Technology and Health Care', 'prism:issn': '09287329', 'prism:volume': '32', 'prism:pageRange': 'S465-S475', 'prism:coverDate': '2024-05-31', 'prism:coverDisplayDate': '31 May 2024', 'prism:doi': '10.3233/THC-248041', 'citedby-count': '0', 'affiliation': [{'@_fa': 'true', 'affilname': 'Xiamen University', 'affiliation-city': 'Xiamen', 'affiliation-country': 'China'}], 'pubmed-id': '38759069', 'prism:aggregationType': 'Journal', 'subtype': 'ar', 'subtypeDescription': 'Article', 'source-id': '19644', 'openaccess': '1', 'openaccessFlag': True, 'freetoread': {'value': [{'$': 'all'}, {'$': 'repository'}, {'$': 'repositoryvor'}]}, 'freetoreadLabel': {'value': [{'$': 'All Open Access'}, {'$': 'Green'}]}}, {'@_fa': 'true', 'link': [{'@_fa': 'true', '@ref': 'self', '@href': 'https://api.elsevier.com/content/abstract/scopus_id/85189928902'}, {'@_fa': 'true', '@ref': 'author-affiliation', '@href': 'https://api.elsevier.com/content/abstract/scopus_id/85189928902?field=author,affiliation'}, {'@_fa': 'true', '@ref': 'scopus', '@href': 'https://www.scopus.com/inward/record.uri?partnerID=HzOxMe3b&scp=85189928902&origin=inward'}, {'@_fa': 'true', '@ref': 'scopus-citedby', '@href': 'https://www.scopus.com/inward/citedby.uri?partnerID=HzOxMe3b&scp=85189928902&origin=inward'}, {'@_fa': 'true', '@ref': 'full-text', '@href': 'https://api.elsevier.com/content/article/eid/1-s2.0-S0010482524004980'}], 'prism:url': 'https://api.elsevier.com/content/abstract/scopus_id/85189928902', 'dc:identifier': 'SCOPUS_ID:85189928902', 'eid': '2-s2.0-85189928902', 'dc:title': 'A new family of instance-level loss functions for improving instance-level segmentation and detection of white matter hyperintensities in routine clinical brain MRI', 'dc:creator': 'Rachmadi M.F.', 'prism:publicationName': 'Computers in Biology and Medicine', 'prism:issn': '00104825', 'prism:eIssn': '18790534', 'prism:volume': '174', 'prism:pageRange': None, 'prism:coverDate': '2024-05-01', 'prism:coverDisplayDate': 'May 2024', 'prism:doi': '10.1016/j.compbiomed.2024.108414', 'pii': 'S0010482524004980', 'citedby-count': '0', 'affiliation': [{'@_fa': 'true', 'affilname': 'Universitas Indonesia', 'affiliation-city': 'Depok', 'affiliation-country': 'Indonesia'}, {'@_fa': 'true', 'affilname': 'RIKEN Center for Brain Science', 'affiliation-city': 'Wako', 'affiliation-country': 'Japan'}], 'pubmed-id': '38599072', 'prism:aggregationType': 'Journal', 'subtype': 'ar', 'subtypeDescription': 'Article', 'article-number': '108414', 'source-id': '17957', 'openaccess': '1', 'openaccessFlag': True, 'freetoread': {'value': [{'$': 'all'}, {'$': 'publisherhybridgold'}]}, 'freetoreadLabel': {'value': [{'$': 'All Open Access'}, {'$': 'Hybrid Gold'}]}}, {'@_fa': 'true', 'link': [{'@_fa': 'true', '@ref': 'self', '@href': 'https://api.elsevier.com/content/abstract/scopus_id/85188073218'}, {'@_fa': 'true', '@ref': 'author-affiliation', '@href': 'https://api.elsevier.com/content/abstract/scopus_id/85188073218?field=author,affiliation'}, {'@_fa': 'true', '@ref': 'scopus', '@href': 'https://www.scopus.com/inward/record.uri?partnerID=HzOxMe3b&scp=85188073218&origin=inward'}, {'@_fa': 'true', '@ref': 'scopus-citedby', '@href': 'https://www.scopus.com/inward/citedby.uri?partnerID=HzOxMe3b&scp=85188073218&origin=inward'}], 'prism:url': 'https://api.elsevier.com/content/abstract/scopus_id/85188073218', 'dc:identifier': 'SCOPUS_ID:85188073218', 'eid': '2-s2.0-85188073218', 'dc:title': 'Super-resolution techniques for biomedical applications and challenges', 'dc:creator': 'Shin M.', 'prism:publicationName': 'Biomedical Engineering Letters', 'prism:issn': '20939868', 'prism:eIssn': '2093985X', 'prism:volume': '14', 'prism:issueIdentifier': '3', 'prism:pageRange': '465-496', 'prism:coverDate': '2024-05-01', 'prism:coverDisplayDate': 'May 2024', 'prism:doi': '10.1007/s13534-024-00365-4', 'citedby-count': '0', 'affiliation': [{'@_fa': 'true', 'affilname': 'Yonsei University', 'affiliation-city': 'Seoul', 'affiliation-country': 'South Korea'}], 'prism:aggregationType': 'Journal', 'subtype': 're', 'subtypeDescription': 'Review', 'source-id': '21100204919', 'openaccess': '0', 'openaccessFlag': False}, {'@_fa': 'true', 'link': [{'@_fa': 'true', '@ref': 'self', '@href': 'https://api.elsevier.com/content/abstract/scopus_id/85187197133'}, {'@_fa': 'true', '@ref': 'author-affiliation', '@href': 'https://api.elsevier.com/content/abstract/scopus_id/85187197133?field=author,affiliation'}, {'@_fa': 'true', '@ref': 'scopus', '@href': 'https://www.scopus.com/inward/record.uri?partnerID=HzOxMe3b&scp=85187197133&origin=inward'}, {'@_fa': 'true', '@ref': 'scopus-citedby', '@href': 'https://www.scopus.com/inward/citedby.uri?partnerID=HzOxMe3b&scp=85187197133&origin=inward'}, {'@_fa': 'true', '@ref': 'full-text', '@href': 'https://api.elsevier.com/content/article/eid/1-s2.0-S0169260724001093'}], 'prism:url': 'https://api.elsevier.com/content/abstract/scopus_id/85187197133', 'dc:identifier': 'SCOPUS_ID:85187197133', 'eid': '2-s2.0-85187197133', 'dc:title': 'IODeep: An IOD for the introduction of deep learning in the DICOM standard', 'dc:creator': 'Contino S.', 'prism:publicationName': 'Computer Methods and Programs in Biomedicine', 'prism:issn': '01692607', 'prism:eIssn': '18727565', 'prism:volume': '248', 'prism:pageRange': None, 'prism:coverDate': '2024-05-01', 'prism:coverDisplayDate': 'May 2024', 'prism:doi': '10.1016/j.cmpb.2024.108113', 'pii': 'S0169260724001093', 'citedby-count': '0', 'affiliation': [{'@_fa': 'true', 'affilname': 'Università degli Studi di Palermo', 'affiliation-city': 'Palermo', 'affiliation-country': 'Italy'}], 'pubmed-id': '38479148', 'prism:aggregationType': 'Journal', 'subtype': 'ar', 'subtypeDescription': 'Article', 'article-number': '108113', 'source-id': '23604', 'openaccess': '1', 'openaccessFlag': True, 'freetoread': {'value': [{'$': 'all'}, {'$': 'publisherhybridgold'}]}, 'freetoreadLabel': {'value': [{'$': 'All Open Access'}, {'$': 'Hybrid Gold'}]}}, {'@_fa': 'true', 'link': [{'@_fa': 'true', '@ref': 'self', '@href': 'https://api.elsevier.com/content/abstract/scopus_id/85171797427'}, {'@_fa': 'true', '@ref': 'author-affiliation', '@href': 'https://api.elsevier.com/content/abstract/scopus_id/85171797427?field=author,affiliation'}, {'@_fa': 'true', '@ref': 'scopus', '@href': 'https://www.scopus.com/inward/record.uri?partnerID=HzOxMe3b&scp=85171797427&origin=inward'}, {'@_fa': 'true', '@ref': 'scopus-citedby', '@href': 'https://www.scopus.com/inward/citedby.uri?partnerID=HzOxMe3b&scp=85171797427&origin=inward'}], 'prism:url': 'https://api.elsevier.com/content/abstract/scopus_id/85171797427', 'dc:identifier': 'SCOPUS_ID:85171797427', 'eid': '2-s2.0-85171797427', 'dc:title': 'Compound Scaling Encoder-Decoder (CoSED) Network for Diabetic Retinopathy Related Bio-Marker Detection', 'dc:creator': 'Yi D.', 'prism:publicationName': 'IEEE Journal of Biomedical and Health Informatics', 'prism:issn': '21682194', 'prism:eIssn': '21682208', 'prism:volume': '28', 'prism:issueIdentifier': '4', 'prism:pageRange': '1959-1970', 'prism:coverDate': '2024-04-01', 'prism:coverDisplayDate': '1 April 2024', 'prism:doi': '10.1109/JBHI.2023.3313785', 'citedby-count': '4', 'affiliation': [{'@_fa': 'true', 'affilname': 'University of Aberdeen', 'affiliation-city': 'Aberdeen', 'affiliation-country': 'United Kingdom'}], 'pubmed-id': '37695962', 'prism:aggregationType': 'Journal', 'subtype': 'ar', 'subtypeDescription': 'Article', 'source-id': '21100256982', 'openaccess': '0', 'openaccessFlag': False, 'freetoread': {'value': [{'$': 'all'}, {'$': 'repository'}, {'$': 'repositoryam'}]}, 'freetoreadLabel': {'value': [{'$': 'All Open Access'}, {'$': 'Green'}]}}, {'@_fa': 'true', 'link': [{'@_fa': 'true', '@ref': 'self', '@href': 'https://api.elsevier.com/content/abstract/scopus_id/85187303011'}, {'@_fa': 'true', '@ref': 'author-affiliation', '@href': 'https://api.elsevier.com/content/abstract/scopus_id/85187303011?field=author,affiliation'}, {'@_fa': 'true', '@ref': 'scopus', '@href': 'https://www.scopus.com/inward/record.uri?partnerID=HzOxMe3b&scp=85187303011&origin=inward'}, {'@_fa': 'true', '@ref': 'scopus-citedby', '@href': 'https://www.scopus.com/inward/citedby.uri?partnerID=HzOxMe3b&scp=85187303011&origin=inward'}, {'@_fa': 'true', '@ref': 'full-text', '@href': 'https://api.elsevier.com/content/article/eid/1-s2.0-S2405844024021807'}], 'prism:url': 'https://api.elsevier.com/content/abstract/scopus_id/85187303011', 'dc:identifier': 'SCOPUS_ID:85187303011', 'eid': '2-s2.0-85187303011', 'dc:title': 'An intelligent neural network model to detect red blood cells for various blood structure classification in microscopic medical images', 'dc:creator': 'Khan R.U.', 'prism:publicationName': 'Heliyon', 'prism:issn': '24058440', 'prism:volume': '10', 'prism:issueIdentifier': '4', 'prism:pageRange': None, 'prism:coverDate': '2024-02-29', 'prism:coverDisplayDate': '29 February 2024', 'prism:doi': '10.1016/j.heliyon.2024.e26149', 'pii': 'S2405844024021807', 'citedby-count': '0', 'affiliation': [{'@_fa': 'true', 'affilname': 'University of Electronic Science and Technology of China', 'affiliation-city': 'Chengdu', 'affiliation-country': 'China'}], 'prism:aggregationType': 'Journal', 'subtype': 'ar', 'subtypeDescription': 'Article', 'article-number': 'e26149', 'source-id': '21100411756', 'openaccess': '1', 'openaccessFlag': True, 'freetoread': {'value': [{'$': 'all'}, {'$': 'publisherfullgold'}]}, 'freetoreadLabel': {'value': [{'$': 'All Open Access'}, {'$': 'Gold'}]}}, {'@_fa': 'true', 'link': [{'@_fa': 'true', '@ref': 'self', '@href': 'https://api.elsevier.com/content/abstract/scopus_id/85201578472'}, {'@_fa': 'true', '@ref': 'author-affiliation', '@href': 'https://api.elsevier.com/content/abstract/scopus_id/85201578472?field=author,affiliation'}, {'@_fa': 'true', '@ref': 'scopus', '@href': 'https://www.scopus.com/inward/record.uri?partnerID=HzOxMe3b&scp=85201578472&origin=inward'}, {'@_fa': 'true', '@ref': 'scopus-citedby', '@href': 'https://www.scopus.com/inward/citedby.uri?partnerID=HzOxMe3b&scp=85201578472&origin=inward'}], 'prism:url': 'https://api.elsevier.com/content/abstract/scopus_id/85201578472', 'dc:identifier': 'SCOPUS_ID:85201578472', 'eid': '2-s2.0-85201578472', 'dc:title': 'AUEB NLP Group at ImageCLEFmedical Caption 2024', 'dc:creator': 'Samprovalaki M.', 'prism:publicationName': 'CEUR Workshop Proceedings', 'prism:issn': '16130073', 'prism:volume': '3740', 'prism:pageRange': '1729-1745', 'prism:coverDate': '2024-01-01', 'prism:coverDisplayDate': '2024', 'citedby-count': '1', 'affiliation': [{'@_fa': 'true', 'affilname': 'Athens University of Economics and Business', 'affiliation-city': 'Athens', 'affiliation-country': 'Greece'}], 'prism:aggregationType': 'Conference Proceeding', 'subtype': 'cp', 'subtypeDescription': 'Conference Paper', 'source-id': '21100218356', 'openaccess': '0', 'openaccessFlag': False}, {'@_fa': 'true', 'link': [{'@_fa': 'true', '@ref': 'self', '@href': 'https://api.elsevier.com/content/abstract/scopus_id/85200652501'}, {'@_fa': 'true', '@ref': 'author-affiliation', '@href': 'https://api.elsevier.com/content/abstract/scopus_id/85200652501?field=author,affiliation'}, {'@_fa': 'true', '@ref': 'scopus', '@href': 'https://www.scopus.com/inward/record.uri?partnerID=HzOxMe3b&scp=85200652501&origin=inward'}, {'@_fa': 'true', '@ref': 'scopus-citedby', '@href': 'https://www.scopus.com/inward/citedby.uri?partnerID=HzOxMe3b&scp=85200652501&origin=inward'}], 'prism:url': 'https://api.elsevier.com/content/abstract/scopus_id/85200652501', 'dc:identifier': 'SCOPUS_ID:85200652501', 'eid': '2-s2.0-85200652501', 'dc:title': 'Biomedical Mammography Image Classification Using Patches-Based Feature Engineering with Deep Learning and Ensemble Classifier', 'dc:creator': 'Poonia R.C.', 'prism:publicationName': 'Lecture Notes in Networks and Systems', 'prism:issn': '23673370', 'prism:eIssn': '23673389', 'prism:isbn': [{'@_fa': 'true', '$': '[9783031648120]'}], 'prism:volume': '1046 LNNS', 'prism:pageRange': '275-285', 'prism:coverDate': '2024-01-01', 'prism:coverDisplayDate': '2024', 'prism:doi': '10.1007/978-3-031-64813-7_29', 'citedby-count': '0', 'affiliation': [{'@_fa': 'true', 'affilname': 'Christ University', 'affiliation-city': 'Bengaluru', 'affiliation-country': 'India'}], 'prism:aggregationType': 'Book Series', 'subtype': 'cp', 'subtypeDescription': 'Conference Paper', 'source-id': '21100901469', 'openaccess': '0', 'openaccessFlag': False}, {'@_fa': 'true', 'link': [{'@_fa': 'true', '@ref': 'self', '@href': 'https://api.elsevier.com/content/abstract/scopus_id/85198842931'}, {'@_fa': 'true', '@ref': 'author-affiliation', '@href': 'https://api.elsevier.com/content/abstract/scopus_id/85198842931?field=author,affiliation'}, {'@_fa': 'true', '@ref': 'scopus', '@href': 'https://www.scopus.com/inward/record.uri?partnerID=HzOxMe3b&scp=85198842931&origin=inward'}, {'@_fa': 'true', '@ref': 'scopus-citedby', '@href': 'https://www.scopus.com/inward/citedby.uri?partnerID=HzOxMe3b&scp=85198842931&origin=inward'}], 'prism:url': 'https://api.elsevier.com/content/abstract/scopus_id/85198842931', 'dc:identifier': 'SCOPUS_ID:85198842931', 'eid': '2-s2.0-85198842931', 'dc:title': 'Oral Cancer Detection Using Convolutional Neural Networks', 'dc:creator': 'Jagadesh T.', 'prism:publicationName': 'Proceedings of 9th International Conference on Science, Technology, Engineering and Mathematics: The Role of Emerging Technologies in Digital Transformation, ICONSTEM 2024', 'prism:isbn': [{'@_fa': 'true', '$': '[9798350365092]'}], 'prism:pageRange': None, 'prism:coverDate': '2024-01-01', 'prism:coverDisplayDate': '2024', 'prism:doi': '10.1109/ICONSTEM60960.2024.10568599', 'citedby-count': '0', 'affiliation': [{'@_fa': 'true', 'affilname': 'KPR Institute of Engineering and Technology', 'affiliation-city': 'Coimbatore', 'affiliation-country': 'India'}], 'prism:aggregationType': 'Conference Proceeding', 'subtype': 'cp', 'subtypeDescription': 'Conference Paper', 'source-id': '21101236062', 'openaccess': '0', 'openaccessFlag': False}, {'@_fa': 'true', 'link': [{'@_fa': 'true', '@ref': 'self', '@href': 'https://api.elsevier.com/content/abstract/scopus_id/85197385681'}, {'@_fa': 'true', '@ref': 'author-affiliation', '@href': 'https://api.elsevier.com/content/abstract/scopus_id/85197385681?field=author,affiliation'}, {'@_fa': 'true', '@ref': 'scopus', '@href': 'https://www.scopus.com/inward/record.uri?partnerID=HzOxMe3b&scp=85197385681&origin=inward'}, {'@_fa': 'true', '@ref': 'scopus-citedby', '@href': 'https://www.scopus.com/inward/citedby.uri?partnerID=HzOxMe3b&scp=85197385681&origin=inward'}], 'prism:url': 'https://api.elsevier.com/content/abstract/scopus_id/85197385681', 'dc:identifier': 'SCOPUS_ID:85197385681', 'eid': '2-s2.0-85197385681', 'dc:title': 'Selection of Convolutional Neural Network Model for Bladder Tumor Classification of Cystoscopy Images and Comparison with Humans', 'dc:creator': 'Lee J.Y.', 'prism:publicationName': 'Journal of Endourology', 'prism:issn': '08927790', 'prism:eIssn': '1557900X', 'prism:pageRange': None, 'prism:coverDate': '2024-01-01', 'prism:coverDisplayDate': '2024', 'prism:doi': '10.1089/end.2024.0250', 'citedby-count': '0', 'affiliation': [{'@_fa': 'true', 'affilname': 'DEEPNOID Inc.', 'affiliation-city': 'Seoul', 'affiliation-country': 'South Korea'}], 'pubmed-id': '38877795', 'prism:aggregationType': 'Journal', 'subtype': 'ar', 'subtypeDescription': 'Article', 'source-id': '19972', 'openaccess': '0', 'openaccessFlag': False}, {'@_fa': 'true', 'link': [{'@_fa': 'true', '@ref': 'self', '@href': 'https://api.elsevier.com/content/abstract/scopus_id/85195513858'}, {'@_fa': 'true', '@ref': 'author-affiliation', '@href': 'https://api.elsevier.com/content/abstract/scopus_id/85195513858?field=author,affiliation'}, {'@_fa': 'true', '@ref': 'scopus', '@href': 'https://www.scopus.com/inward/record.uri?partnerID=HzOxMe3b&scp=85195513858&origin=inward'}, {'@_fa': 'true', '@ref': 'scopus-citedby', '@href': 'https://www.scopus.com/inward/citedby.uri?partnerID=HzOxMe3b&scp=85195513858&origin=inward'}], 'prism:url': 'https://api.elsevier.com/content/abstract/scopus_id/85195513858', 'dc:identifier': 'SCOPUS_ID:85195513858', 'eid': '2-s2.0-85195513858', 'dc:title': 'Multi-model deep learning system for screening human monkeypox using skin images', 'dc:creator': 'Gupta K.', 'prism:publicationName': 'Expert Systems', 'prism:issn': '02664720', 'prism:eIssn': '14680394', 'prism:pageRange': None, 'prism:coverDate': '2024-01-01', 'prism:coverDisplayDate': '2024', 'prism:doi': '10.1111/exsy.13651', 'citedby-count': '0', 'affiliation': [{'@_fa': 'true', 'affilname': 'University of Petroleum and Energy Studies', 'affiliation-city': 'Dehradun', 'affiliation-country': 'India'}], 'prism:aggregationType': 'Journal', 'subtype': 'ar', 'subtypeDescription': 'Article', 'source-id': '24185', 'openaccess': '0', 'openaccessFlag': False, 'freetoread': {'value': [{'$': 'all'}, {'$': 'repository'}, {'$': 'repositoryam'}]}, 'freetoreadLabel': {'value': [{'$': 'All Open Access'}, {'$': 'Green'}]}}, {'@_fa': 'true', 'link': [{'@_fa': 'true', '@ref': 'self', '@href': 'https://api.elsevier.com/content/abstract/scopus_id/85195123955'}, {'@_fa': 'true', '@ref': 'author-affiliation', '@href': 'https://api.elsevier.com/content/abstract/scopus_id/85195123955?field=author,affiliation'}, {'@_fa': 'true', '@ref': 'scopus', '@href': 'https://www.scopus.com/inward/record.uri?partnerID=HzOxMe3b&scp=85195123955&origin=inward'}, {'@_fa': 'true', '@ref': 'scopus-citedby', '@href': 'https://www.scopus.com/inward/citedby.uri?partnerID=HzOxMe3b&scp=85195123955&origin=inward'}], 'prism:url': 'https://api.elsevier.com/content/abstract/scopus_id/85195123955', 'dc:identifier': 'SCOPUS_ID:85195123955', 'eid': '2-s2.0-85195123955', 'dc:title': 'Autism Spectrum Disorder Diagnosis using Deep Learning Techniques', 'dc:creator': 'Thamilselvan R.', 'prism:publicationName': '2024 International Conference on Cognitive Robotics and Intelligent Systems, ICC - ROBINS 2024', 'prism:isbn': [{'@_fa': 'true', '$': '[9798350372748]'}], 'prism:pageRange': '402-407', 'prism:coverDate': '2024-01-01', 'prism:coverDisplayDate': '2024', 'prism:doi': '10.1109/ICC-ROBINS60238.2024.10533978', 'citedby-count': '0', 'affiliation': [{'@_fa': 'true', 'affilname': 'Kongu Engineering College', 'affiliation-city': 'Erode', 'affiliation-country': 'India'}], 'prism:aggregationType': 'Conference Proceeding', 'subtype': 'cp', 'subtypeDescription': 'Conference Paper', 'source-id': '21101226481', 'openaccess': '0', 'openaccessFlag': False}, {'@_fa': 'true', 'link': [{'@_fa': 'true', '@ref': 'self', '@href': 'https://api.elsevier.com/content/abstract/scopus_id/85193495422'}, {'@_fa': 'true', '@ref': 'author-affiliation', '@href': 'https://api.elsevier.com/content/abstract/scopus_id/85193495422?field=author,affiliation'}, {'@_fa': 'true', '@ref': 'scopus', '@href': 'https://www.scopus.com/inward/record.uri?partnerID=HzOxMe3b&scp=85193495422&origin=inward'}, {'@_fa': 'true', '@ref': 'scopus-citedby', '@href': 'https://www.scopus.com/inward/citedby.uri?partnerID=HzOxMe3b&scp=85193495422&origin=inward'}], 'prism:url': 'https://api.elsevier.com/content/abstract/scopus_id/85193495422', 'dc:identifier': 'SCOPUS_ID:85193495422', 'eid': '2-s2.0-85193495422', 'dc:title': 'Neutrosophic Logic Empowered Machine Learning Algorithm with Salp Swarm Optimization for Biomedical Image Analysis', 'dc:creator': 'Alanazi A.A.', 'prism:publicationName': 'International Journal of Neutrosophic Science', 'prism:issn': '26926148', 'prism:eIssn': '26906805', 'prism:volume': '23', 'prism:issueIdentifier': '4', 'prism:pageRange': '104-116', 'prism:coverDate': '2024-01-01', 'prism:coverDisplayDate': '2024', 'prism:doi': '10.54216/IJNS.230408', 'citedby-count': '0', 'affiliation': [{'@_fa': 'true', 'affilname': \"University of Ha'il\", 'affiliation-city': \"Ha'il\", 'affiliation-country': 'Saudi Arabia'}], 'prism:aggregationType': 'Journal', 'subtype': 'ar', 'subtypeDescription': 'Article', 'source-id': '21101066571', 'openaccess': '0', 'openaccessFlag': False}, {'@_fa': 'true', 'link': [{'@_fa': 'true', '@ref': 'self', '@href': 'https://api.elsevier.com/content/abstract/scopus_id/85193360200'}, {'@_fa': 'true', '@ref': 'author-affiliation', '@href': 'https://api.elsevier.com/content/abstract/scopus_id/85193360200?field=author,affiliation'}, {'@_fa': 'true', '@ref': 'scopus', '@href': 'https://www.scopus.com/inward/record.uri?partnerID=HzOxMe3b&scp=85193360200&origin=inward'}, {'@_fa': 'true', '@ref': 'scopus-citedby', '@href': 'https://www.scopus.com/inward/citedby.uri?partnerID=HzOxMe3b&scp=85193360200&origin=inward'}, {'@_fa': 'true', '@ref': 'full-text', '@href': 'https://api.elsevier.com/content/article/eid/3-s2.0-B9780443223082000044'}], 'prism:url': 'https://api.elsevier.com/content/abstract/scopus_id/85193360200', 'dc:identifier': 'SCOPUS_ID:85193360200', 'eid': '2-s2.0-85193360200', 'dc:title': 'Medical image segmentation using artificial intelligence', 'dc:creator': 'Subasi A.', 'prism:publicationName': 'Applications of Artificial Intelligence in Healthcare and Biomedicine', 'prism:isbn': [{'@_fa': 'true', '$': '[9780443223082, 9780443223099]'}], 'prism:pageRange': '377-400', 'prism:coverDate': '2024-01-01', 'prism:coverDisplayDate': '1 January 2024', 'prism:doi': '10.1016/B978-0-443-22308-2.00004-4', 'citedby-count': '0', 'affiliation': [{'@_fa': 'true', 'affilname': 'Effat University', 'affiliation-city': 'Jeddah', 'affiliation-country': 'Saudi Arabia'}, {'@_fa': 'true', 'affilname': 'Lääketieteellinen Tiedekunta', 'affiliation-city': 'Turku', 'affiliation-country': 'Finland'}], 'prism:aggregationType': 'Book', 'subtype': 'ch', 'subtypeDescription': 'Book Chapter', 'source-id': '21101222894', 'openaccess': '0', 'openaccessFlag': False}, {'@_fa': 'true', 'link': [{'@_fa': 'true', '@ref': 'self', '@href': 'https://api.elsevier.com/content/abstract/scopus_id/85192528413'}, {'@_fa': 'true', '@ref': 'author-affiliation', '@href': 'https://api.elsevier.com/content/abstract/scopus_id/85192528413?field=author,affiliation'}, {'@_fa': 'true', '@ref': 'scopus', '@href': 'https://www.scopus.com/inward/record.uri?partnerID=HzOxMe3b&scp=85192528413&origin=inward'}, {'@_fa': 'true', '@ref': 'scopus-citedby', '@href': 'https://www.scopus.com/inward/citedby.uri?partnerID=HzOxMe3b&scp=85192528413&origin=inward'}], 'prism:url': 'https://api.elsevier.com/content/abstract/scopus_id/85192528413', 'dc:identifier': 'SCOPUS_ID:85192528413', 'eid': '2-s2.0-85192528413', 'dc:title': 'Brain Tumor Detection with Deep Learning Methods’ Classifier Optimization Using Medical Images', 'dc:creator': 'Güler M.', 'prism:publicationName': 'Applied Sciences (Switzerland)', 'prism:eIssn': '20763417', 'prism:volume': '14', 'prism:issueIdentifier': '2', 'prism:pageRange': None, 'prism:coverDate': '2024-01-01', 'prism:coverDisplayDate': 'January 2024', 'prism:doi': '10.3390/app14020642', 'citedby-count': '0', 'affiliation': [{'@_fa': 'true', 'affilname': 'Istanbul University-Cerrahpasa', 'affiliation-city': 'Istanbul', 'affiliation-country': 'Turkey'}], 'prism:aggregationType': 'Journal', 'subtype': 'ar', 'subtypeDescription': 'Article', 'article-number': '642', 'source-id': '21100829268', 'openaccess': '1', 'openaccessFlag': True, 'freetoread': {'value': [{'$': 'all'}, {'$': 'publisherfullgold'}]}, 'freetoreadLabel': {'value': [{'$': 'All Open Access'}, {'$': 'Gold'}]}}, {'@_fa': 'true', 'link': [{'@_fa': 'true', '@ref': 'self', '@href': 'https://api.elsevier.com/content/abstract/scopus_id/85190366951'}, {'@_fa': 'true', '@ref': 'author-affiliation', '@href': 'https://api.elsevier.com/content/abstract/scopus_id/85190366951?field=author,affiliation'}, {'@_fa': 'true', '@ref': 'scopus', '@href': 'https://www.scopus.com/inward/record.uri?partnerID=HzOxMe3b&scp=85190366951&origin=inward'}, {'@_fa': 'true', '@ref': 'scopus-citedby', '@href': 'https://www.scopus.com/inward/citedby.uri?partnerID=HzOxMe3b&scp=85190366951&origin=inward'}], 'prism:url': 'https://api.elsevier.com/content/abstract/scopus_id/85190366951', 'dc:identifier': 'SCOPUS_ID:85190366951', 'eid': '2-s2.0-85190366951', 'dc:title': '30th International Conference on Neural Information Processing, ICONIP 2023', 'prism:publicationName': 'Lecture Notes in Computer Science (including subseries Lecture Notes in Artificial Intelligence and Lecture Notes in Bioinformatics)', 'prism:issn': '03029743', 'prism:eIssn': '16113349', 'prism:isbn': [{'@_fa': 'true', '$': '[9789819980758]'}], 'prism:volume': '14452 LNCS', 'prism:pageRange': None, 'prism:coverDate': '2024-01-01', 'prism:coverDisplayDate': '2024', 'citedby-count': '0', 'prism:aggregationType': 'Book Series', 'subtype': 'cr', 'subtypeDescription': 'Conference Review', 'source-id': '25674', 'openaccess': '0', 'openaccessFlag': False}, {'@_fa': 'true', 'link': [{'@_fa': 'true', '@ref': 'self', '@href': 'https://api.elsevier.com/content/abstract/scopus_id/85190115796'}, {'@_fa': 'true', '@ref': 'author-affiliation', '@href': 'https://api.elsevier.com/content/abstract/scopus_id/85190115796?field=author,affiliation'}, {'@_fa': 'true', '@ref': 'scopus', '@href': 'https://www.scopus.com/inward/record.uri?partnerID=HzOxMe3b&scp=85190115796&origin=inward'}, {'@_fa': 'true', '@ref': 'scopus-citedby', '@href': 'https://www.scopus.com/inward/citedby.uri?partnerID=HzOxMe3b&scp=85190115796&origin=inward'}], 'prism:url': 'https://api.elsevier.com/content/abstract/scopus_id/85190115796', 'dc:identifier': 'SCOPUS_ID:85190115796', 'eid': '2-s2.0-85190115796', 'dc:title': 'Biomedical Image Classification using Deep Reinforcement Learning', 'dc:creator': 'Parihar S.', 'prism:publicationName': '2024 4th International Conference on Advances in Electrical, Computing, Communication and Sustainable Technologies, ICAECT 2024', 'prism:isbn': [{'@_fa': 'true', '$': '[9798350343670]'}], 'prism:pageRange': None, 'prism:coverDate': '2024-01-01', 'prism:coverDisplayDate': '2024', 'prism:doi': '10.1109/ICAECT60202.2024.10468733', 'citedby-count': '0', 'affiliation': [{'@_fa': 'true', 'affilname': 'Symbiosis Institute of Technology', 'affiliation-city': 'Pune', 'affiliation-country': 'India'}], 'prism:aggregationType': 'Conference Proceeding', 'subtype': 'cp', 'subtypeDescription': 'Conference Paper', 'source-id': '21101213840', 'openaccess': '0', 'openaccessFlag': False}, {'@_fa': 'true', 'link': [{'@_fa': 'true', '@ref': 'self', '@href': 'https://api.elsevier.com/content/abstract/scopus_id/85183902386'}, {'@_fa': 'true', '@ref': 'author-affiliation', '@href': 'https://api.elsevier.com/content/abstract/scopus_id/85183902386?field=author,affiliation'}, {'@_fa': 'true', '@ref': 'scopus', '@href': 'https://www.scopus.com/inward/record.uri?partnerID=HzOxMe3b&scp=85183902386&origin=inward'}, {'@_fa': 'true', '@ref': 'scopus-citedby', '@href': 'https://www.scopus.com/inward/citedby.uri?partnerID=HzOxMe3b&scp=85183902386&origin=inward'}], 'prism:url': 'https://api.elsevier.com/content/abstract/scopus_id/85183902386', 'dc:identifier': 'SCOPUS_ID:85183902386', 'eid': '2-s2.0-85183902386', 'dc:title': 'Accelerating biomedical image segmentation using equilibrium optimization with a deep learning approach', 'dc:creator': 'Al-Shahari E.A.', 'prism:publicationName': 'AIMS Mathematics', 'prism:eIssn': '24736988', 'prism:volume': '9', 'prism:issueIdentifier': '3', 'prism:pageRange': '5905-5924', 'prism:coverDate': '2024-01-01', 'prism:coverDisplayDate': '2024', 'prism:doi': '10.3934/math.2024288', 'citedby-count': '0', 'affiliation': [{'@_fa': 'true', 'affilname': 'King Khalid University', 'affiliation-city': 'Abha', 'affiliation-country': 'Saudi Arabia'}], 'prism:aggregationType': 'Journal', 'subtype': 'ar', 'subtypeDescription': 'Article', 'source-id': '21100927407', 'openaccess': '1', 'openaccessFlag': True, 'freetoread': {'value': [{'$': 'all'}, {'$': 'publisherfullgold'}]}, 'freetoreadLabel': {'value': [{'$': 'All Open Access'}, {'$': 'Gold'}]}}]}}\n",
            "Título: Towards laryngeal cancer diagnosis using Dandelion Optimizer Algorithm with ensemble learning on biomedical throat region images\n",
            "Autores: Alzakari S.A.\n",
            "Resumen: No abstract available\n",
            "\n",
            "Título: An optimized fusion of deep learning models for kidney stone detection from CT images\n",
            "Autores: Asif S.\n",
            "Resumen: No abstract available\n",
            "\n",
            "Título: Biomedical image classification using seagull optimization with deep learning for colon and lung cancer diagnosis\n",
            "Autores: Manoharan T.\n",
            "Resumen: No abstract available\n",
            "\n",
            "Título: Identifying and training deep learning neural networks on biomedical-related datasets\n",
            "Autores: Woessner A.E.\n",
            "Resumen: No abstract available\n",
            "\n",
            "Título: Cervical precancerous lesion classification using quantum invasive weed optimization with deep learning on biomedical pap smear images\n",
            "Autores: Mishra A.K.\n",
            "Resumen: No abstract available\n",
            "\n",
            "Título: Multi-scale nested UNet with transformer for colorectal polyp segmentation\n",
            "Autores: Wang Z.\n",
            "Resumen: No abstract available\n",
            "\n",
            "Título: A novel deep learning graph attention network for Alzheimer's disease image segmentation\n",
            "Autores: Hasan M.E.\n",
            "Resumen: No abstract available\n",
            "\n",
            "Título: Intelligent deep learning supports biomedical image detection and classification of oral cancer\n",
            "Autores: Chen R.\n",
            "Resumen: No abstract available\n",
            "\n",
            "Título: A new family of instance-level loss functions for improving instance-level segmentation and detection of white matter hyperintensities in routine clinical brain MRI\n",
            "Autores: Rachmadi M.F.\n",
            "Resumen: No abstract available\n",
            "\n",
            "Título: Super-resolution techniques for biomedical applications and challenges\n",
            "Autores: Shin M.\n",
            "Resumen: No abstract available\n",
            "\n",
            "Título: IODeep: An IOD for the introduction of deep learning in the DICOM standard\n",
            "Autores: Contino S.\n",
            "Resumen: No abstract available\n",
            "\n",
            "Título: Compound Scaling Encoder-Decoder (CoSED) Network for Diabetic Retinopathy Related Bio-Marker Detection\n",
            "Autores: Yi D.\n",
            "Resumen: No abstract available\n",
            "\n",
            "Título: An intelligent neural network model to detect red blood cells for various blood structure classification in microscopic medical images\n",
            "Autores: Khan R.U.\n",
            "Resumen: No abstract available\n",
            "\n",
            "Título: AUEB NLP Group at ImageCLEFmedical Caption 2024\n",
            "Autores: Samprovalaki M.\n",
            "Resumen: No abstract available\n",
            "\n",
            "Título: Biomedical Mammography Image Classification Using Patches-Based Feature Engineering with Deep Learning and Ensemble Classifier\n",
            "Autores: Poonia R.C.\n",
            "Resumen: No abstract available\n",
            "\n",
            "Título: Oral Cancer Detection Using Convolutional Neural Networks\n",
            "Autores: Jagadesh T.\n",
            "Resumen: No abstract available\n",
            "\n",
            "Título: Selection of Convolutional Neural Network Model for Bladder Tumor Classification of Cystoscopy Images and Comparison with Humans\n",
            "Autores: Lee J.Y.\n",
            "Resumen: No abstract available\n",
            "\n",
            "Título: Multi-model deep learning system for screening human monkeypox using skin images\n",
            "Autores: Gupta K.\n",
            "Resumen: No abstract available\n",
            "\n",
            "Título: Autism Spectrum Disorder Diagnosis using Deep Learning Techniques\n",
            "Autores: Thamilselvan R.\n",
            "Resumen: No abstract available\n",
            "\n",
            "Título: Neutrosophic Logic Empowered Machine Learning Algorithm with Salp Swarm Optimization for Biomedical Image Analysis\n",
            "Autores: Alanazi A.A.\n",
            "Resumen: No abstract available\n",
            "\n",
            "Título: Medical image segmentation using artificial intelligence\n",
            "Autores: Subasi A.\n",
            "Resumen: No abstract available\n",
            "\n",
            "Título: Brain Tumor Detection with Deep Learning Methods’ Classifier Optimization Using Medical Images\n",
            "Autores: Güler M.\n",
            "Resumen: No abstract available\n",
            "\n",
            "Título: 30th International Conference on Neural Information Processing, ICONIP 2023\n",
            "Autores: No authors available\n",
            "Resumen: No abstract available\n",
            "\n",
            "Título: Biomedical Image Classification using Deep Reinforcement Learning\n",
            "Autores: Parihar S.\n",
            "Resumen: No abstract available\n",
            "\n",
            "Título: Accelerating biomedical image segmentation using equilibrium optimization with a deep learning approach\n",
            "Autores: Al-Shahari E.A.\n",
            "Resumen: No abstract available\n",
            "\n"
          ]
        }
      ]
    },
    {
      "cell_type": "markdown",
      "source": [
        "OTRO MÉTODO DE BÚSQUEDA\n",
        "\n",
        "Ejemplo\n",
        "\n",
        "TITLE-ABS-KEY(((\"deep\") AND (\"learning\")) AND ((\"biomedical) AND (“images\")) AND ((\"neural\") AND (\"networks\")) AND (\"algorithms\"))"
      ],
      "metadata": {
        "id": "bHUT8oSXcHlM"
      }
    },
    {
      "cell_type": "code",
      "source": [
        "# Nuevamente estableciendo el enlace entre Colab & Scopus (API KEY)\n",
        "key = \"bab8e983f0fd5bdd813ac1c6910111b7\"\n",
        "scopus = Scopus(key)"
      ],
      "metadata": {
        "id": "Bl8cVx8_lXYn"
      },
      "execution_count": 55,
      "outputs": []
    },
    {
      "cell_type": "code",
      "execution_count": 57,
      "metadata": {
        "id": "kuvZBLliTUZy",
        "colab": {
          "base_uri": "https://localhost:8080/"
        },
        "outputId": "465b12ac-7df9-406e-83cd-928d4b42d1ce"
      },
      "outputs": [
        {
          "name": "stdout",
          "output_type": "stream",
          "text": [
            "Ingresa las palabras clave para la búsqueda: TITLE-ABS-KEY(((\"deep\") AND (\"learning\")) AND ((\"biomedical) AND (“images\")) AND ((\"neural\") AND (\"networks\")) AND (\"algorithms\"))\n"
          ]
        }
      ],
      "source": [
        "s = input(\"Ingresa las palabras clave para la búsqueda: \")\n",
        "search_df = scopus.search(s,count=200, view='STANDARD')"
      ]
    },
    {
      "cell_type": "code",
      "source": [
        "from IPython.display import display\n",
        "display(search_df)"
      ],
      "metadata": {
        "colab": {
          "base_uri": "https://localhost:8080/",
          "height": 187
        },
        "id": "DBeWOxmnsX9G",
        "outputId": "7a60b53c-f635-4167-dd11-6d02282a41e9"
      },
      "execution_count": 58,
      "outputs": [
        {
          "output_type": "display_data",
          "data": {
            "text/plain": [
              "     scopus_id                                              title  \\\n",
              "0  85141769257  A hierarchical machine learning model based on...   \n",
              "\n",
              "                    publication_name      issn  isbn     eissn volume  \\\n",
              "0  Computers in Biology and Medicine  00104825  None  18790534    150   \n",
              "\n",
              "  page_range  cover_date                               doi  citation_count  \\\n",
              "0       None  2022-11-01  10.1016/j.compbiomed.2022.106159               1   \n",
              "\n",
              "                                         affiliation aggregation_type  \\\n",
              "0  [{'name': 'Amirkabir University of Technology'...          Journal   \n",
              "\n",
              "  subtype_description authors  \\\n",
              "0             Article      []   \n",
              "\n",
              "                                           full_text  \n",
              "0  https://api.elsevier.com/content/article/eid/1...  "
            ],
            "text/html": [
              "\n",
              "  <div id=\"df-c4a801c3-aa5c-4a45-b170-182a9b0af200\" class=\"colab-df-container\">\n",
              "    <div>\n",
              "<style scoped>\n",
              "    .dataframe tbody tr th:only-of-type {\n",
              "        vertical-align: middle;\n",
              "    }\n",
              "\n",
              "    .dataframe tbody tr th {\n",
              "        vertical-align: top;\n",
              "    }\n",
              "\n",
              "    .dataframe thead th {\n",
              "        text-align: right;\n",
              "    }\n",
              "</style>\n",
              "<table border=\"1\" class=\"dataframe\">\n",
              "  <thead>\n",
              "    <tr style=\"text-align: right;\">\n",
              "      <th></th>\n",
              "      <th>scopus_id</th>\n",
              "      <th>title</th>\n",
              "      <th>publication_name</th>\n",
              "      <th>issn</th>\n",
              "      <th>isbn</th>\n",
              "      <th>eissn</th>\n",
              "      <th>volume</th>\n",
              "      <th>page_range</th>\n",
              "      <th>cover_date</th>\n",
              "      <th>doi</th>\n",
              "      <th>citation_count</th>\n",
              "      <th>affiliation</th>\n",
              "      <th>aggregation_type</th>\n",
              "      <th>subtype_description</th>\n",
              "      <th>authors</th>\n",
              "      <th>full_text</th>\n",
              "    </tr>\n",
              "  </thead>\n",
              "  <tbody>\n",
              "    <tr>\n",
              "      <th>0</th>\n",
              "      <td>85141769257</td>\n",
              "      <td>A hierarchical machine learning model based on...</td>\n",
              "      <td>Computers in Biology and Medicine</td>\n",
              "      <td>00104825</td>\n",
              "      <td>None</td>\n",
              "      <td>18790534</td>\n",
              "      <td>150</td>\n",
              "      <td>None</td>\n",
              "      <td>2022-11-01</td>\n",
              "      <td>10.1016/j.compbiomed.2022.106159</td>\n",
              "      <td>1</td>\n",
              "      <td>[{'name': 'Amirkabir University of Technology'...</td>\n",
              "      <td>Journal</td>\n",
              "      <td>Article</td>\n",
              "      <td>[]</td>\n",
              "      <td>https://api.elsevier.com/content/article/eid/1...</td>\n",
              "    </tr>\n",
              "  </tbody>\n",
              "</table>\n",
              "</div>\n",
              "    <div class=\"colab-df-buttons\">\n",
              "\n",
              "  <div class=\"colab-df-container\">\n",
              "    <button class=\"colab-df-convert\" onclick=\"convertToInteractive('df-c4a801c3-aa5c-4a45-b170-182a9b0af200')\"\n",
              "            title=\"Convert this dataframe to an interactive table.\"\n",
              "            style=\"display:none;\">\n",
              "\n",
              "  <svg xmlns=\"http://www.w3.org/2000/svg\" height=\"24px\" viewBox=\"0 -960 960 960\">\n",
              "    <path d=\"M120-120v-720h720v720H120Zm60-500h600v-160H180v160Zm220 220h160v-160H400v160Zm0 220h160v-160H400v160ZM180-400h160v-160H180v160Zm440 0h160v-160H620v160ZM180-180h160v-160H180v160Zm440 0h160v-160H620v160Z\"/>\n",
              "  </svg>\n",
              "    </button>\n",
              "\n",
              "  <style>\n",
              "    .colab-df-container {\n",
              "      display:flex;\n",
              "      gap: 12px;\n",
              "    }\n",
              "\n",
              "    .colab-df-convert {\n",
              "      background-color: #E8F0FE;\n",
              "      border: none;\n",
              "      border-radius: 50%;\n",
              "      cursor: pointer;\n",
              "      display: none;\n",
              "      fill: #1967D2;\n",
              "      height: 32px;\n",
              "      padding: 0 0 0 0;\n",
              "      width: 32px;\n",
              "    }\n",
              "\n",
              "    .colab-df-convert:hover {\n",
              "      background-color: #E2EBFA;\n",
              "      box-shadow: 0px 1px 2px rgba(60, 64, 67, 0.3), 0px 1px 3px 1px rgba(60, 64, 67, 0.15);\n",
              "      fill: #174EA6;\n",
              "    }\n",
              "\n",
              "    .colab-df-buttons div {\n",
              "      margin-bottom: 4px;\n",
              "    }\n",
              "\n",
              "    [theme=dark] .colab-df-convert {\n",
              "      background-color: #3B4455;\n",
              "      fill: #D2E3FC;\n",
              "    }\n",
              "\n",
              "    [theme=dark] .colab-df-convert:hover {\n",
              "      background-color: #434B5C;\n",
              "      box-shadow: 0px 1px 3px 1px rgba(0, 0, 0, 0.15);\n",
              "      filter: drop-shadow(0px 1px 2px rgba(0, 0, 0, 0.3));\n",
              "      fill: #FFFFFF;\n",
              "    }\n",
              "  </style>\n",
              "\n",
              "    <script>\n",
              "      const buttonEl =\n",
              "        document.querySelector('#df-c4a801c3-aa5c-4a45-b170-182a9b0af200 button.colab-df-convert');\n",
              "      buttonEl.style.display =\n",
              "        google.colab.kernel.accessAllowed ? 'block' : 'none';\n",
              "\n",
              "      async function convertToInteractive(key) {\n",
              "        const element = document.querySelector('#df-c4a801c3-aa5c-4a45-b170-182a9b0af200');\n",
              "        const dataTable =\n",
              "          await google.colab.kernel.invokeFunction('convertToInteractive',\n",
              "                                                    [key], {});\n",
              "        if (!dataTable) return;\n",
              "\n",
              "        const docLinkHtml = 'Like what you see? Visit the ' +\n",
              "          '<a target=\"_blank\" href=https://colab.research.google.com/notebooks/data_table.ipynb>data table notebook</a>'\n",
              "          + ' to learn more about interactive tables.';\n",
              "        element.innerHTML = '';\n",
              "        dataTable['output_type'] = 'display_data';\n",
              "        await google.colab.output.renderOutput(dataTable, element);\n",
              "        const docLink = document.createElement('div');\n",
              "        docLink.innerHTML = docLinkHtml;\n",
              "        element.appendChild(docLink);\n",
              "      }\n",
              "    </script>\n",
              "  </div>\n",
              "\n",
              "\n",
              "  <div id=\"id_cbd91b39-6ce6-4ae0-afa9-6a1424f82a15\">\n",
              "    <style>\n",
              "      .colab-df-generate {\n",
              "        background-color: #E8F0FE;\n",
              "        border: none;\n",
              "        border-radius: 50%;\n",
              "        cursor: pointer;\n",
              "        display: none;\n",
              "        fill: #1967D2;\n",
              "        height: 32px;\n",
              "        padding: 0 0 0 0;\n",
              "        width: 32px;\n",
              "      }\n",
              "\n",
              "      .colab-df-generate:hover {\n",
              "        background-color: #E2EBFA;\n",
              "        box-shadow: 0px 1px 2px rgba(60, 64, 67, 0.3), 0px 1px 3px 1px rgba(60, 64, 67, 0.15);\n",
              "        fill: #174EA6;\n",
              "      }\n",
              "\n",
              "      [theme=dark] .colab-df-generate {\n",
              "        background-color: #3B4455;\n",
              "        fill: #D2E3FC;\n",
              "      }\n",
              "\n",
              "      [theme=dark] .colab-df-generate:hover {\n",
              "        background-color: #434B5C;\n",
              "        box-shadow: 0px 1px 3px 1px rgba(0, 0, 0, 0.15);\n",
              "        filter: drop-shadow(0px 1px 2px rgba(0, 0, 0, 0.3));\n",
              "        fill: #FFFFFF;\n",
              "      }\n",
              "    </style>\n",
              "    <button class=\"colab-df-generate\" onclick=\"generateWithVariable('search_df')\"\n",
              "            title=\"Generate code using this dataframe.\"\n",
              "            style=\"display:none;\">\n",
              "\n",
              "  <svg xmlns=\"http://www.w3.org/2000/svg\" height=\"24px\"viewBox=\"0 0 24 24\"\n",
              "       width=\"24px\">\n",
              "    <path d=\"M7,19H8.4L18.45,9,17,7.55,7,17.6ZM5,21V16.75L18.45,3.32a2,2,0,0,1,2.83,0l1.4,1.43a1.91,1.91,0,0,1,.58,1.4,1.91,1.91,0,0,1-.58,1.4L9.25,21ZM18.45,9,17,7.55Zm-12,3A5.31,5.31,0,0,0,4.9,8.1,5.31,5.31,0,0,0,1,6.5,5.31,5.31,0,0,0,4.9,4.9,5.31,5.31,0,0,0,6.5,1,5.31,5.31,0,0,0,8.1,4.9,5.31,5.31,0,0,0,12,6.5,5.46,5.46,0,0,0,6.5,12Z\"/>\n",
              "  </svg>\n",
              "    </button>\n",
              "    <script>\n",
              "      (() => {\n",
              "      const buttonEl =\n",
              "        document.querySelector('#id_cbd91b39-6ce6-4ae0-afa9-6a1424f82a15 button.colab-df-generate');\n",
              "      buttonEl.style.display =\n",
              "        google.colab.kernel.accessAllowed ? 'block' : 'none';\n",
              "\n",
              "      buttonEl.onclick = () => {\n",
              "        google.colab.notebook.generateWithVariable('search_df');\n",
              "      }\n",
              "      })();\n",
              "    </script>\n",
              "  </div>\n",
              "\n",
              "    </div>\n",
              "  </div>\n"
            ],
            "application/vnd.google.colaboratory.intrinsic+json": {
              "type": "dataframe",
              "variable_name": "search_df",
              "repr_error": "Out of range float values are not JSON compliant: nan"
            }
          },
          "metadata": {}
        }
      ]
    },
    {
      "cell_type": "code",
      "source": [],
      "metadata": {
        "id": "5trs7ZLlvgSO"
      },
      "execution_count": null,
      "outputs": []
    },
    {
      "cell_type": "code",
      "source": [],
      "metadata": {
        "id": "04aJxGKLw4nx"
      },
      "execution_count": null,
      "outputs": []
    },
    {
      "cell_type": "code",
      "source": [],
      "metadata": {
        "id": "0FOfSh0jxi2f"
      },
      "execution_count": null,
      "outputs": []
    },
    {
      "cell_type": "code",
      "source": [],
      "metadata": {
        "id": "SJaxvALmxisf"
      },
      "execution_count": null,
      "outputs": []
    },
    {
      "cell_type": "code",
      "source": [],
      "metadata": {
        "id": "zLP6ERo2xihw"
      },
      "execution_count": null,
      "outputs": []
    },
    {
      "cell_type": "markdown",
      "source": [
        "## Artículos, conference papers, books, etc"
      ],
      "metadata": {
        "id": "RLDZ-7rnD-fL"
      }
    },
    {
      "cell_type": "code",
      "source": [
        "search_df.subtype_description.unique()"
      ],
      "metadata": {
        "colab": {
          "base_uri": "https://localhost:8080/"
        },
        "id": "4Y_2P3I6DxJ_",
        "outputId": "ca362651-0caa-49fb-a4d9-29bce2d89643"
      },
      "execution_count": 39,
      "outputs": [
        {
          "output_type": "execute_result",
          "data": {
            "text/plain": [
              "array(['Article'], dtype=object)"
            ]
          },
          "metadata": {},
          "execution_count": 39
        }
      ]
    },
    {
      "cell_type": "code",
      "source": [
        "import pandas as pd\n",
        "import seaborn as sns\n",
        "import matplotlib.pyplot as plt\n",
        "import matplotlib.ticker as ticker\n",
        "\n",
        "# Contar las ocurrencias de cada tipo de publicación y ordenar los datos por el índice\n",
        "subtype_description = search_df['subtype_description'].value_counts()\n",
        "\n",
        "# Crear el gráfico de barras con coloración por tipo de publicación\n",
        "ax = sns.barplot(x=subtype_description.index, y=subtype_description.values, palette='viridis')\n",
        "\n",
        "# Agregar etiquetas y título\n",
        "plt.ylabel('Cantidad')\n",
        "plt.title('Tipo de publicación')\n",
        "\n",
        "# Formatear el eje y con un decimal\n",
        "ax.yaxis.set_major_formatter(ticker.FormatStrFormatter('%.0f'))\n",
        "\n",
        "# Mostrar el gráfico\n",
        "plt.show()"
      ],
      "metadata": {
        "colab": {
          "base_uri": "https://localhost:8080/",
          "height": 563
        },
        "id": "_gDiQjK_Fv72",
        "outputId": "b2a75577-5105-459b-f083-a4171cca9bb4"
      },
      "execution_count": 40,
      "outputs": [
        {
          "output_type": "stream",
          "name": "stderr",
          "text": [
            "<ipython-input-40-c525a455e4cc>:10: FutureWarning: \n",
            "\n",
            "Passing `palette` without assigning `hue` is deprecated and will be removed in v0.14.0. Assign the `x` variable to `hue` and set `legend=False` for the same effect.\n",
            "\n",
            "  ax = sns.barplot(x=subtype_description.index, y=subtype_description.values, palette='viridis')\n"
          ]
        },
        {
          "output_type": "display_data",
          "data": {
            "text/plain": [
              "<Figure size 640x480 with 1 Axes>"
            ],
            "image/png": "[encoded data removed]"
          },
          "metadata": {}
        }
      ]
    },
    {
      "cell_type": "code",
      "source": [
        "import pandas as pd\n",
        "\n",
        "# Dividir la columna \"cover_date\" y crear la columna \"year\"\n",
        "search_df['year'] = search_df['cover_date'].apply(lambda x: x.split('-')[0])"
      ],
      "metadata": {
        "id": "i0MV9pLa0ILs"
      },
      "execution_count": 41,
      "outputs": []
    },
    {
      "cell_type": "code",
      "source": [
        "search_df.head(3)"
      ],
      "metadata": {
        "colab": {
          "base_uri": "https://localhost:8080/",
          "height": 187
        },
        "id": "GJvK1Fxt0Y-j",
        "outputId": "4adadfa6-5532-405e-dc0f-d3e7f869f29c"
      },
      "execution_count": 42,
      "outputs": [
        {
          "output_type": "execute_result",
          "data": {
            "text/plain": [
              "     scopus_id                                              title  \\\n",
              "0  85141769257  A hierarchical machine learning model based on...   \n",
              "\n",
              "                    publication_name      issn  isbn     eissn volume  \\\n",
              "0  Computers in Biology and Medicine  00104825  None  18790534    150   \n",
              "\n",
              "  page_range  cover_date                               doi  citation_count  \\\n",
              "0       None  2022-11-01  10.1016/j.compbiomed.2022.106159               1   \n",
              "\n",
              "                                         affiliation aggregation_type  \\\n",
              "0  [{'name': 'Amirkabir University of Technology'...          Journal   \n",
              "\n",
              "  subtype_description authors  \\\n",
              "0             Article      []   \n",
              "\n",
              "                                           full_text  year  \n",
              "0  https://api.elsevier.com/content/article/eid/1...  2022  "
            ],
            "text/html": [
              "\n",
              "  <div id=\"df-d9ae5dcb-6df3-4f10-9f32-c0dd59a58fc9\" class=\"colab-df-container\">\n",
              "    <div>\n",
              "<style scoped>\n",
              "    .dataframe tbody tr th:only-of-type {\n",
              "        vertical-align: middle;\n",
              "    }\n",
              "\n",
              "    .dataframe tbody tr th {\n",
              "        vertical-align: top;\n",
              "    }\n",
              "\n",
              "    .dataframe thead th {\n",
              "        text-align: right;\n",
              "    }\n",
              "</style>\n",
              "<table border=\"1\" class=\"dataframe\">\n",
              "  <thead>\n",
              "    <tr style=\"text-align: right;\">\n",
              "      <th></th>\n",
              "      <th>scopus_id</th>\n",
              "      <th>title</th>\n",
              "      <th>publication_name</th>\n",
              "      <th>issn</th>\n",
              "      <th>isbn</th>\n",
              "      <th>eissn</th>\n",
              "      <th>volume</th>\n",
              "      <th>page_range</th>\n",
              "      <th>cover_date</th>\n",
              "      <th>doi</th>\n",
              "      <th>citation_count</th>\n",
              "      <th>affiliation</th>\n",
              "      <th>aggregation_type</th>\n",
              "      <th>subtype_description</th>\n",
              "      <th>authors</th>\n",
              "      <th>full_text</th>\n",
              "      <th>year</th>\n",
              "    </tr>\n",
              "  </thead>\n",
              "  <tbody>\n",
              "    <tr>\n",
              "      <th>0</th>\n",
              "      <td>85141769257</td>\n",
              "      <td>A hierarchical machine learning model based on...</td>\n",
              "      <td>Computers in Biology and Medicine</td>\n",
              "      <td>00104825</td>\n",
              "      <td>None</td>\n",
              "      <td>18790534</td>\n",
              "      <td>150</td>\n",
              "      <td>None</td>\n",
              "      <td>2022-11-01</td>\n",
              "      <td>10.1016/j.compbiomed.2022.106159</td>\n",
              "      <td>1</td>\n",
              "      <td>[{'name': 'Amirkabir University of Technology'...</td>\n",
              "      <td>Journal</td>\n",
              "      <td>Article</td>\n",
              "      <td>[]</td>\n",
              "      <td>https://api.elsevier.com/content/article/eid/1...</td>\n",
              "      <td>2022</td>\n",
              "    </tr>\n",
              "  </tbody>\n",
              "</table>\n",
              "</div>\n",
              "    <div class=\"colab-df-buttons\">\n",
              "\n",
              "  <div class=\"colab-df-container\">\n",
              "    <button class=\"colab-df-convert\" onclick=\"convertToInteractive('df-d9ae5dcb-6df3-4f10-9f32-c0dd59a58fc9')\"\n",
              "            title=\"Convert this dataframe to an interactive table.\"\n",
              "            style=\"display:none;\">\n",
              "\n",
              "  <svg xmlns=\"http://www.w3.org/2000/svg\" height=\"24px\" viewBox=\"0 -960 960 960\">\n",
              "    <path d=\"M120-120v-720h720v720H120Zm60-500h600v-160H180v160Zm220 220h160v-160H400v160Zm0 220h160v-160H400v160ZM180-400h160v-160H180v160Zm440 0h160v-160H620v160ZM180-180h160v-160H180v160Zm440 0h160v-160H620v160Z\"/>\n",
              "  </svg>\n",
              "    </button>\n",
              "\n",
              "  <style>\n",
              "    .colab-df-container {\n",
              "      display:flex;\n",
              "      gap: 12px;\n",
              "    }\n",
              "\n",
              "    .colab-df-convert {\n",
              "      background-color: #E8F0FE;\n",
              "      border: none;\n",
              "      border-radius: 50%;\n",
              "      cursor: pointer;\n",
              "      display: none;\n",
              "      fill: #1967D2;\n",
              "      height: 32px;\n",
              "      padding: 0 0 0 0;\n",
              "      width: 32px;\n",
              "    }\n",
              "\n",
              "    .colab-df-convert:hover {\n",
              "      background-color: #E2EBFA;\n",
              "      box-shadow: 0px 1px 2px rgba(60, 64, 67, 0.3), 0px 1px 3px 1px rgba(60, 64, 67, 0.15);\n",
              "      fill: #174EA6;\n",
              "    }\n",
              "\n",
              "    .colab-df-buttons div {\n",
              "      margin-bottom: 4px;\n",
              "    }\n",
              "\n",
              "    [theme=dark] .colab-df-convert {\n",
              "      background-color: #3B4455;\n",
              "      fill: #D2E3FC;\n",
              "    }\n",
              "\n",
              "    [theme=dark] .colab-df-convert:hover {\n",
              "      background-color: #434B5C;\n",
              "      box-shadow: 0px 1px 3px 1px rgba(0, 0, 0, 0.15);\n",
              "      filter: drop-shadow(0px 1px 2px rgba(0, 0, 0, 0.3));\n",
              "      fill: #FFFFFF;\n",
              "    }\n",
              "  </style>\n",
              "\n",
              "    <script>\n",
              "      const buttonEl =\n",
              "        document.querySelector('#df-d9ae5dcb-6df3-4f10-9f32-c0dd59a58fc9 button.colab-df-convert');\n",
              "      buttonEl.style.display =\n",
              "        google.colab.kernel.accessAllowed ? 'block' : 'none';\n",
              "\n",
              "      async function convertToInteractive(key) {\n",
              "        const element = document.querySelector('#df-d9ae5dcb-6df3-4f10-9f32-c0dd59a58fc9');\n",
              "        const dataTable =\n",
              "          await google.colab.kernel.invokeFunction('convertToInteractive',\n",
              "                                                    [key], {});\n",
              "        if (!dataTable) return;\n",
              "\n",
              "        const docLinkHtml = 'Like what you see? Visit the ' +\n",
              "          '<a target=\"_blank\" href=https://colab.research.google.com/notebooks/data_table.ipynb>data table notebook</a>'\n",
              "          + ' to learn more about interactive tables.';\n",
              "        element.innerHTML = '';\n",
              "        dataTable['output_type'] = 'display_data';\n",
              "        await google.colab.output.renderOutput(dataTable, element);\n",
              "        const docLink = document.createElement('div');\n",
              "        docLink.innerHTML = docLinkHtml;\n",
              "        element.appendChild(docLink);\n",
              "      }\n",
              "    </script>\n",
              "  </div>\n",
              "\n",
              "\n",
              "    </div>\n",
              "  </div>\n"
            ],
            "application/vnd.google.colaboratory.intrinsic+json": {
              "type": "dataframe",
              "variable_name": "search_df",
              "repr_error": "Out of range float values are not JSON compliant: nan"
            }
          },
          "metadata": {},
          "execution_count": 42
        }
      ]
    },
    {
      "cell_type": "markdown",
      "source": [
        "## Frecuencia de publicaciones por año"
      ],
      "metadata": {
        "id": "zRpPePaIwQOD"
      }
    },
    {
      "cell_type": "code",
      "source": [
        "import pandas as pd\n",
        "import seaborn as sns\n",
        "import matplotlib.pyplot as plt\n",
        "import matplotlib.ticker as ticker\n",
        "\n",
        "# Contar las ocurrencias de cada año y ordenar los datos por el índice\n",
        "year_counts = search_df['year'].value_counts().sort_index()\n",
        "\n",
        "# Crear el gráfico de barras con coloración por año\n",
        "ax = sns.barplot(x=year_counts.index, y=year_counts.values, palette='viridis')\n",
        "\n",
        "# Agregar etiquetas y título\n",
        "plt.xlabel('Año')\n",
        "plt.ylabel('Número de publicaciones')\n",
        "plt.title('Publicaciones por año')\n",
        "plt.xticks(rotation=45)\n",
        "\n",
        "# Establecer los valores del eje y\n",
        "ax.set_yticks([1, 2, 3, 4])\n",
        "\n",
        "# Mostrar el gráfico\n",
        "plt.show()"
      ],
      "metadata": {
        "colab": {
          "base_uri": "https://localhost:8080/",
          "height": 583
        },
        "id": "PZUy9u9gyLJp",
        "outputId": "ac1f36c5-efdb-45c3-b2b6-55045019c31a"
      },
      "execution_count": 43,
      "outputs": [
        {
          "output_type": "stream",
          "name": "stderr",
          "text": [
            "<ipython-input-43-ea52143cf8a9>:10: FutureWarning: \n",
            "\n",
            "Passing `palette` without assigning `hue` is deprecated and will be removed in v0.14.0. Assign the `x` variable to `hue` and set `legend=False` for the same effect.\n",
            "\n",
            "  ax = sns.barplot(x=year_counts.index, y=year_counts.values, palette='viridis')\n"
          ]
        },
        {
          "output_type": "display_data",
          "data": {
            "text/plain": [
              "<Figure size 640x480 with 1 Axes>"
            ],
            "image/png": "[encoded data removed]"
          },
          "metadata": {}
        }
      ]
    },
    {
      "cell_type": "code",
      "source": [
        "search_df.citation_count.unique()"
      ],
      "metadata": {
        "colab": {
          "base_uri": "https://localhost:8080/"
        },
        "id": "w-WNXmZRzeps",
        "outputId": "24376a53-8cb7-423b-8809-4a6b1d364456"
      },
      "execution_count": 44,
      "outputs": [
        {
          "output_type": "execute_result",
          "data": {
            "text/plain": [
              "array([1])"
            ]
          },
          "metadata": {},
          "execution_count": 44
        }
      ]
    },
    {
      "cell_type": "code",
      "source": [
        "import pandas as pd\n",
        "import seaborn as sns\n",
        "import matplotlib.pyplot as plt\n",
        "\n",
        "# Crear un DataFrame de ejemplo\n",
        "df = pd.DataFrame(search_df) #.sort_index(ascending=False)\n",
        "\n",
        "# Crear el gráfico de dispersión con coloración por recurrencia\n",
        "sns.scatterplot(data=df, x='publication_name', y='year', hue='citation_count', palette='viridis')\n",
        "\n",
        "# Agregar etiquetas y título\n",
        "plt.xlabel('Revistas')\n",
        "plt.ylabel('Año')\n",
        "plt.title('Revistas y año de publicación')\n",
        "plt.xticks(rotation=90)\n",
        "\n",
        "# Cambiar el título de la leyenda\n",
        "plt.legend(title='Citaciones')\n",
        "\n",
        "# Mostrar el gráfico\n",
        "plt.show()"
      ],
      "metadata": {
        "colab": {
          "base_uri": "https://localhost:8080/",
          "height": 704
        },
        "id": "bKfFDoAa1z-l",
        "outputId": "55c1629d-da5a-4c58-c688-65a3c25b76b0"
      },
      "execution_count": 45,
      "outputs": [
        {
          "output_type": "display_data",
          "data": {
            "text/plain": [
              "<Figure size 640x480 with 1 Axes>"
            ],
            "image/png": "[encoded data removed]"
          },
          "metadata": {}
        }
      ]
    },
    {
      "cell_type": "markdown",
      "metadata": {
        "id": "uk2VSNmcUd3V"
      },
      "source": [
        "### Análisis descriptivo"
      ]
    },
    {
      "cell_type": "code",
      "execution_count": 46,
      "metadata": {
        "id": "VyOzn5DVUk39",
        "colab": {
          "base_uri": "https://localhost:8080/"
        },
        "outputId": "dd64ef2e-f614-4671-d5ac-3f59b354d3aa"
      },
      "outputs": [
        {
          "output_type": "stream",
          "name": "stdout",
          "text": [
            "Cantidad de Filas y columnas: (1, 17)\n"
          ]
        }
      ],
      "source": [
        "print(\"Cantidad de Filas y columnas:\", search_df.shape)"
      ]
    },
    {
      "cell_type": "code",
      "execution_count": null,
      "metadata": {
        "id": "wz7_o0l5bIqP",
        "colab": {
          "base_uri": "https://localhost:8080/"
        },
        "outputId": "0131abf0-8737-4c8d-dd09-aa905265f643"
      },
      "outputs": [
        {
          "output_type": "stream",
          "name": "stdout",
          "text": [
            "Nombre columnas: Index(['scopus_id', 'title', 'publication_name', 'issn', 'isbn', 'eissn',\n",
            "       'volume', 'page_range', 'cover_date', 'doi', 'citation_count',\n",
            "       'affiliation', 'aggregation_type', 'subtype_description', 'authors',\n",
            "       'full_text', 'year'],\n",
            "      dtype='object')\n"
          ]
        }
      ],
      "source": [
        "print('Nombre columnas:',search_df.columns)"
      ]
    },
    {
      "cell_type": "code",
      "execution_count": 47,
      "metadata": {
        "id": "0EnIerIwbVRK",
        "colab": {
          "base_uri": "https://localhost:8080/"
        },
        "outputId": "6fd4a3de-bd99-4bce-d8dc-ef791acce693"
      },
      "outputs": [
        {
          "output_type": "stream",
          "name": "stdout",
          "text": [
            "<class 'pandas.core.frame.DataFrame'>\n",
            "RangeIndex: 1 entries, 0 to 0\n",
            "Data columns (total 17 columns):\n",
            " #   Column               Non-Null Count  Dtype \n",
            "---  ------               --------------  ----- \n",
            " 0   scopus_id            1 non-null      object\n",
            " 1   title                1 non-null      object\n",
            " 2   publication_name     1 non-null      object\n",
            " 3   issn                 1 non-null      object\n",
            " 4   isbn                 0 non-null      object\n",
            " 5   eissn                1 non-null      object\n",
            " 6   volume               1 non-null      object\n",
            " 7   page_range           0 non-null      object\n",
            " 8   cover_date           1 non-null      object\n",
            " 9   doi                  1 non-null      object\n",
            " 10  citation_count       1 non-null      int64 \n",
            " 11  affiliation          1 non-null      object\n",
            " 12  aggregation_type     1 non-null      object\n",
            " 13  subtype_description  1 non-null      object\n",
            " 14  authors              1 non-null      object\n",
            " 15  full_text            1 non-null      object\n",
            " 16  year                 1 non-null      object\n",
            "dtypes: int64(1), object(16)\n",
            "memory usage: 264.0+ bytes\n"
          ]
        }
      ],
      "source": [
        "search_df.info()"
      ]
    },
    {
      "cell_type": "code",
      "execution_count": 48,
      "metadata": {
        "id": "F1YivHHYh4gc",
        "colab": {
          "base_uri": "https://localhost:8080/",
          "height": 704
        },
        "outputId": "56ae2166-d358-4ef0-a005-73a46dc23b51"
      },
      "outputs": [
        {
          "output_type": "display_data",
          "data": {
            "text/plain": [
              "<Figure size 640x480 with 1 Axes>"
            ],
            "image/png": "[encoded data removed]"
          },
          "metadata": {}
        }
      ],
      "source": [
        "import pandas as pd\n",
        "import matplotlib.pyplot as plt\n",
        "\n",
        "# Crear un DataFrame de ejemplo\n",
        "df = pd.DataFrame(search_df)\n",
        "\n",
        "# Crear el gráfico de barras\n",
        "plt.bar(df['publication_name'], df['citation_count'])\n",
        "\n",
        "# Agregar etiquetas y título\n",
        "plt.xlabel('publication_name')\n",
        "plt.ylabel('citation_count')\n",
        "plt.title('citation_count por publication_name')\n",
        "plt.xticks(rotation=90)\n",
        "\n",
        "# Mostrar el gráfico\n",
        "plt.show()"
      ]
    }
  ],
  "metadata": {
    "colab": {
      "provenance": [],
      "include_colab_link": true
    },
    "kernelspec": {
      "display_name": "Python 3",
      "name": "python3"
    },
    "language_info": {
      "name": "python"
    }
  },
  "nbformat": 4,
  "nbformat_minor": 0
}